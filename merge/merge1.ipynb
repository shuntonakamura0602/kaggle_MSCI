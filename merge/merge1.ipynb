{
 "cells": [
  {
   "cell_type": "markdown",
   "id": "e223d6a2",
   "metadata": {},
   "source": [
    "# calc cv"
   ]
  },
  {
   "cell_type": "code",
   "execution_count": 1,
   "id": "122c3768",
   "metadata": {},
   "outputs": [],
   "source": [
    "import pandas as pd"
   ]
  },
  {
   "cell_type": "code",
   "execution_count": 2,
   "id": "d37d0bae",
   "metadata": {},
   "outputs": [
    {
     "name": "stdout",
     "output_type": "stream",
     "text": [
      "all_cv: 0.81811384\n"
     ]
    }
   ],
   "source": [
    "# cite weights 0.743\n",
    "# multi weights 0.257\n",
    "cite_cv = 0.88207\n",
    "multi_cv = 0.660\n",
    "print('all_cv:',cite_cv*0.712 + multi_cv*0.288)"
   ]
  },
  {
   "cell_type": "markdown",
   "id": "27fdacef",
   "metadata": {},
   "source": [
    "# merge csv"
   ]
  },
  {
   "cell_type": "code",
   "execution_count": 6,
   "id": "a1c3683f",
   "metadata": {},
   "outputs": [],
   "source": [
    "cite_submission = pd.read_csv(\"../cite_sub/lgbm2.csv\")\n",
    "cite_submission = cite_submission.set_index(\"row_id\")\n",
    "cite_submission = cite_submission[\"target\"]"
   ]
  },
  {
   "cell_type": "code",
   "execution_count": 10,
   "id": "46bad16e",
   "metadata": {},
   "outputs": [],
   "source": [
    "multi_submission = pd.read_csv(\"../multi_sub/ridge1.csv\")\n",
    "multi_submission = multi_submission.set_index(\"row_id\")"
   ]
  },
  {
   "cell_type": "code",
   "execution_count": 20,
   "id": "5594e147",
   "metadata": {},
   "outputs": [],
   "source": [
    "multi_submission.target[multi_submission.target.isnull()] = cite_submission[multi_submission.target.isnull()]"
   ]
  },
  {
   "cell_type": "code",
   "execution_count": 22,
   "id": "2e9c75df",
   "metadata": {},
   "outputs": [
    {
     "data": {
      "text/plain": [
       "target    False\n",
       "dtype: bool"
      ]
     },
     "execution_count": 22,
     "metadata": {},
     "output_type": "execute_result"
    }
   ],
   "source": [
    "multi_submission.isnull().any()"
   ]
  },
  {
   "cell_type": "code",
   "execution_count": 25,
   "id": "78f95022",
   "metadata": {},
   "outputs": [
    {
     "data": {
      "text/html": [
       "<div>\n",
       "<style scoped>\n",
       "    .dataframe tbody tr th:only-of-type {\n",
       "        vertical-align: middle;\n",
       "    }\n",
       "\n",
       "    .dataframe tbody tr th {\n",
       "        vertical-align: top;\n",
       "    }\n",
       "\n",
       "    .dataframe thead th {\n",
       "        text-align: right;\n",
       "    }\n",
       "</style>\n",
       "<table border=\"1\" class=\"dataframe\">\n",
       "  <thead>\n",
       "    <tr style=\"text-align: right;\">\n",
       "      <th></th>\n",
       "      <th>target</th>\n",
       "    </tr>\n",
       "    <tr>\n",
       "      <th>row_id</th>\n",
       "      <th></th>\n",
       "    </tr>\n",
       "  </thead>\n",
       "  <tbody>\n",
       "    <tr>\n",
       "      <th>65744175</th>\n",
       "      <td>6.545989</td>\n",
       "    </tr>\n",
       "    <tr>\n",
       "      <th>65744176</th>\n",
       "      <td>0.033699</td>\n",
       "    </tr>\n",
       "    <tr>\n",
       "      <th>65744177</th>\n",
       "      <td>0.036630</td>\n",
       "    </tr>\n",
       "    <tr>\n",
       "      <th>65744178</th>\n",
       "      <td>1.455560</td>\n",
       "    </tr>\n",
       "    <tr>\n",
       "      <th>65744179</th>\n",
       "      <td>4.894366</td>\n",
       "    </tr>\n",
       "  </tbody>\n",
       "</table>\n",
       "</div>"
      ],
      "text/plain": [
       "            target\n",
       "row_id            \n",
       "65744175  6.545989\n",
       "65744176  0.033699\n",
       "65744177  0.036630\n",
       "65744178  1.455560\n",
       "65744179  4.894366"
      ]
     },
     "execution_count": 25,
     "metadata": {},
     "output_type": "execute_result"
    }
   ],
   "source": [
    "multi_submission.tail()"
   ]
  },
  {
   "cell_type": "markdown",
   "id": "a186e826",
   "metadata": {},
   "source": [
    "# to_csv"
   ]
  },
  {
   "cell_type": "code",
   "execution_count": 26,
   "id": "58e10149",
   "metadata": {},
   "outputs": [],
   "source": [
    "multi_submission.to_csv(\"../submission/lgbm2+ridge1.csv\")"
   ]
  },
  {
   "cell_type": "code",
   "execution_count": null,
   "id": "9e2b495e",
   "metadata": {},
   "outputs": [],
   "source": []
  }
 ],
 "metadata": {
  "kernelspec": {
   "display_name": "Python 3 (ipykernel)",
   "language": "python",
   "name": "python3"
  },
  "language_info": {
   "codemirror_mode": {
    "name": "ipython",
    "version": 3
   },
   "file_extension": ".py",
   "mimetype": "text/x-python",
   "name": "python",
   "nbconvert_exporter": "python",
   "pygments_lexer": "ipython3",
   "version": "3.8.6"
  }
 },
 "nbformat": 4,
 "nbformat_minor": 5
}
