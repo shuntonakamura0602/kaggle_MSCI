{
 "cells": [
  {
   "cell_type": "markdown",
   "id": "42bca8cc",
   "metadata": {},
   "source": [
    "Multiomeデータセットは非常に疎なので（約98%のセルがゼロ）、疎行列として符号化することで大きな利益を得られます。\n",
    "このノートブックは、AmbrosMの[this notebook](https://www.kaggle.com/code/ambrosm/msci-multiome-quickstart)に基づいています。このノートブックはMultiomeデータを扱う最初の素晴らしい試みであり、カグラーにとって、疎と密の表現のパフォーマンスを直接対比できることは有益だと思った。\n",
    "\n",
    "AmbrosMのノートブックとの違いは、主に以下の通りです。\n",
    "- 疎なCSRフォーマットでデータを表現しているので、全ての学習データをメモリにロードすることができます（密なフォーマットでデータを表現するのに必要な90GB以上のメモリの代わりに、8GB以下のメモリを使用します）。\n",
    "- 学習データ全体に対してPCA（実際にはTruncatedSVD）を実行（AmbrosMのノートブックでは6000行4000列の部分集合を扱う必要がありました）。\n",
    "- 16個の成分を保持（AmbrosMのノートブックでは4個）。\n",
    "- 50000行にRidge回帰を適用（AmbrosMのノートブックでは6000行）。\n",
    "- より多くのデータを使用しているにもかかわらず、このノートブックは10分強で実行される (AmbrosMのノートブックは1時間以上かかる)\n",
    "\n",
    "競技会データは、[this notebook](https://www.kaggle.com/code/fabiencrom/multimodal-single-cell-creating-sparse-data/)で生成された[this dataset](https://www.kaggle.com/datasets/fabiencrom/multimodal-single-cell-as-sparse-matrix) にあらかじめスパース行列としてエンコードされています。\n",
    "\n",
    "このノートブックではマルチオーム予測のみを生成するので、公開時点で最もスコアの良い公開ノートブックであるVuongLamによる[this notebook](https://www.kaggle.com/code/vuonglam/lgbm-baseline-optuna-drop-constant-cite-task)からCITEseq予測を取っています。"
   ]
  },
  {
   "cell_type": "code",
   "execution_count": 1,
   "id": "230fdb94",
   "metadata": {},
   "outputs": [],
   "source": [
    "import os, gc, pickle\n",
    "import pandas as pd\n",
    "import matplotlib.pyplot as plt\n",
    "import numpy as np\n",
    "from colorama import Fore, Back, Style\n",
    "from matplotlib.ticker import MaxNLocator\n",
    "import os\n",
    "\n",
    "from sklearn.base import BaseEstimator, TransformerMixin\n",
    "from sklearn.model_selection import KFold\n",
    "from sklearn.preprocessing import StandardScaler, scale\n",
    "from sklearn.decomposition import PCA, TruncatedSVD\n",
    "from sklearn.dummy import DummyRegressor\n",
    "from sklearn.pipeline import make_pipeline, Pipeline\n",
    "from sklearn.linear_model import Ridge, LinearRegression, Lasso\n",
    "from sklearn.metrics import mean_squared_error\n",
    "\n",
    "import scipy\n",
    "import scipy.sparse"
   ]
  },
  {
   "cell_type": "markdown",
   "id": "dc6a8a12",
   "metadata": {},
   "source": [
    "# The scoring function (from AmbrosM)\n",
    "\n",
    "この競技は特別な指標を持つ。すべての行について、y_true と y_pred の間のピアソン相関を計算し、これらの相関係数をすべて平均化するのです。"
   ]
  },
  {
   "cell_type": "code",
   "execution_count": 2,
   "id": "f12c239e",
   "metadata": {},
   "outputs": [],
   "source": [
    "def correlation_score(y_true, y_pred):\n",
    "    \"\"\"Scores the predictions according to the competition rules. \n",
    "    \n",
    "    It is assumed that the predictions are not constant.\n",
    "    \n",
    "    Returns the average of each sample's Pearson correlation coefficient\"\"\"\n",
    "    if type(y_true) == pd.DataFrame: y_true = y_true.values\n",
    "    if type(y_pred) == pd.DataFrame: y_pred = y_pred.values\n",
    "    if y_true.shape != y_pred.shape: raise ValueError(\"Shapes are different.\")\n",
    "    corrsum = 0\n",
    "    for i in range(len(y_true)):\n",
    "        corrsum += np.corrcoef(y_true[i], y_pred[i])[1, 0]\n",
    "    return corrsum / len(y_true)"
   ]
  },
  {
   "cell_type": "markdown",
   "id": "af5ebd3e",
   "metadata": {},
   "source": [
    "# Preprocessing and cross-validation\n",
    "\n",
    "まず、Multiomeのトレーニング用入力データをすべてロードします。1分もかからないはずです。"
   ]
  },
  {
   "cell_type": "code",
   "execution_count": 3,
   "id": "ee6cafa5",
   "metadata": {},
   "outputs": [
    {
     "name": "stdout",
     "output_type": "stream",
     "text": [
      "CPU times: total: 23.2 s\n",
      "Wall time: 23.2 s\n"
     ]
    }
   ],
   "source": [
    "%%time\n",
    "train_inputs = scipy.sparse.load_npz(\"../dataset/train_multi_inputs_values.sparse.npz\")"
   ]
  },
  {
   "cell_type": "code",
   "execution_count": 4,
   "id": "e29034b0",
   "metadata": {},
   "outputs": [],
   "source": [
    "DATA_DIR = \"../dataset/\"\n",
    "FP_CELL_METADATA = os.path.join(DATA_DIR,\"metadata.csv\")"
   ]
  },
  {
   "cell_type": "code",
   "execution_count": 5,
   "id": "fbdf66a6",
   "metadata": {},
   "outputs": [
    {
     "data": {
      "text/plain": [
       "(161877, 4)"
      ]
     },
     "execution_count": 5,
     "metadata": {},
     "output_type": "execute_result"
    }
   ],
   "source": [
    "metadata_df = pd.read_csv(FP_CELL_METADATA, index_col='cell_id')\n",
    "metadata_df = metadata_df[metadata_df.technology==\"multiome\"]\n",
    "metadata_df.shape"
   ]
  },
  {
   "cell_type": "code",
   "execution_count": 6,
   "id": "8618cddc",
   "metadata": {},
   "outputs": [],
   "source": [
    "cell_index =np.load(\"../dataset/train_multi_targets_idxcol.npz\",\n",
    "                   allow_pickle=True)[\"index\"]\n",
    "meta = metadata_df.reindex(cell_index)"
   ]
  },
  {
   "cell_type": "markdown",
   "id": "fc073fbd",
   "metadata": {},
   "source": [
    "## PCA / TruncatedSVD\n",
    "\n",
    "疎な行列に PCA を直接適用することはできません。なぜなら，PCA はまずデータを「センタリング」しなければならず，それによって疎密性が失われるからです。そのため，代わりに `TruncatedSVD` を適用します（これは，ほとんど「センタリングしないPCA」です）．ここで、データをもう少し正規化した方がよいかもしれませんが、ここでは単純にしておきます。"
   ]
  },
  {
   "cell_type": "code",
   "execution_count": 7,
   "id": "6e90adbf",
   "metadata": {},
   "outputs": [
    {
     "name": "stdout",
     "output_type": "stream",
     "text": [
      "CPU times: total: 3min 51s\n",
      "Wall time: 3min 50s\n"
     ]
    }
   ],
   "source": [
    "%%time\n",
    "pca = TruncatedSVD(n_components=16, random_state=1)\n",
    "train_inputs = pca.fit_transform(train_inputs)"
   ]
  },
  {
   "cell_type": "code",
   "execution_count": 8,
   "id": "f6a49e99",
   "metadata": {},
   "outputs": [
    {
     "data": {
      "text/plain": [
       "(105942, 16)"
      ]
     },
     "execution_count": 8,
     "metadata": {},
     "output_type": "execute_result"
    }
   ],
   "source": [
    "train_inputs.shape"
   ]
  },
  {
   "cell_type": "markdown",
   "id": "24527acd",
   "metadata": {},
   "source": [
    "## Random row selection and conversion of the target data to a dense matrix\n",
    "\n",
    "残念ながら、sklearn の `Ridge` リグレッサーは疎な行列を入力として受け付けますが、ターゲット値として疎な行列を受け付けません。つまり、ターゲットを密な形式に変換する必要があります。密なターゲットデータと疎な入力データの両方をメモリに収めることはできますが、その場合、Ridge回帰処理のメモリが不足します。したがって、今後は学習データから50 000行の部分集合を使用することにします。"
   ]
  },
  {
   "cell_type": "code",
   "execution_count": 9,
   "id": "a1d030ee",
   "metadata": {},
   "outputs": [],
   "source": [
    "np.random.seed(42)\n",
    "#all_row_indices = np.arange(train_inputs.shape[0])\n",
    "#np.random.shuffle(all_row_indices)\n",
    "#selected_rows_indices = all_row_indices[:50000]"
   ]
  },
  {
   "cell_type": "code",
   "execution_count": 10,
   "id": "1433e656",
   "metadata": {},
   "outputs": [],
   "source": [
    "#train_inputs = train_inputs[selected_rows_indices]"
   ]
  },
  {
   "cell_type": "code",
   "execution_count": 11,
   "id": "0b70f205",
   "metadata": {},
   "outputs": [
    {
     "data": {
      "text/plain": [
       "(105942, 16)"
      ]
     },
     "execution_count": 11,
     "metadata": {},
     "output_type": "execute_result"
    }
   ],
   "source": [
    "train_inputs.shape"
   ]
  },
  {
   "cell_type": "code",
   "execution_count": 12,
   "id": "4b38416c",
   "metadata": {},
   "outputs": [
    {
     "name": "stdout",
     "output_type": "stream",
     "text": [
      "CPU times: total: 10.5 s\n",
      "Wall time: 10.6 s\n"
     ]
    }
   ],
   "source": [
    "%%time\n",
    "train_target = scipy.sparse.load_npz(\"../dataset/train_multi_targets_values.sparse.npz\")"
   ]
  },
  {
   "cell_type": "code",
   "execution_count": 13,
   "id": "93e29ce1",
   "metadata": {},
   "outputs": [
    {
     "data": {
      "text/plain": [
       "(105942, 23418)"
      ]
     },
     "execution_count": 13,
     "metadata": {},
     "output_type": "execute_result"
    }
   ],
   "source": [
    "train_target.shape"
   ]
  },
  {
   "cell_type": "code",
   "execution_count": 14,
   "id": "5a15f4e5",
   "metadata": {},
   "outputs": [
    {
     "data": {
      "text/plain": [
       "11"
      ]
     },
     "execution_count": 14,
     "metadata": {},
     "output_type": "execute_result"
    }
   ],
   "source": [
    "#train_target = train_target[selected_rows_indices]\n",
    "train_target = train_target.todense()\n",
    "gc.collect()"
   ]
  },
  {
   "cell_type": "code",
   "execution_count": 15,
   "id": "8d340edb",
   "metadata": {},
   "outputs": [
    {
     "data": {
      "text/plain": [
       "(105942, 23418)"
      ]
     },
     "execution_count": 15,
     "metadata": {},
     "output_type": "execute_result"
    }
   ],
   "source": [
    "train_target.shape"
   ]
  },
  {
   "cell_type": "markdown",
   "id": "9d373b03",
   "metadata": {},
   "source": [
    "## KFold Ridge regression\n",
    "\n",
    "`sklearn` は、行列の代わりに配列を使用するように文句を言います。残念ながら、kaggle で利用可能な古い `scipy` バージョンでは、疎な配列は提供されず、疎な行列のみが提供されます。そこで、この警告を抑制する。"
   ]
  },
  {
   "cell_type": "code",
   "execution_count": 16,
   "id": "e8c3a9f9",
   "metadata": {},
   "outputs": [],
   "source": [
    "import warnings\n",
    "warnings.simplefilter(action='ignore', category=FutureWarning)"
   ]
  },
  {
   "cell_type": "markdown",
   "id": "868b73ae",
   "metadata": {},
   "source": [
    "この Kfold リッジ回帰のコードは、ほとんど AmbrosM の [notebook](https://www.kaggle.com/code/ambrosm/msci-multiome-quickstart) から引用しています。なお、 `sklearn` の `Ridge` は疎な行列を透過的に扱える。このブログ記事](https://dziganto.github.io/Sparse-Matrices-For-Efficient-Machine-Learning/) には、 `sklearn` の他のアルゴリズムで疎な行列を受け付けるものがリストアップされています。"
   ]
  },
  {
   "cell_type": "code",
   "execution_count": 17,
   "id": "be7dcfd9",
   "metadata": {},
   "outputs": [],
   "source": [
    "meta_new=meta.reset_index(drop=True)"
   ]
  },
  {
   "cell_type": "code",
   "execution_count": 19,
   "id": "a3b454fa",
   "metadata": {},
   "outputs": [
    {
     "data": {
      "text/plain": [
       "array([2, 3, 4, 7], dtype=int64)"
      ]
     },
     "execution_count": 19,
     "metadata": {},
     "output_type": "execute_result"
    }
   ],
   "source": [
    "meta_new.day.unique()"
   ]
  },
  {
   "cell_type": "code",
   "execution_count": 18,
   "id": "b01484c0",
   "metadata": {},
   "outputs": [
    {
     "name": "stderr",
     "output_type": "stream",
     "text": [
      "<timed exec>:9: UserWarning: Boolean Series key will be reindexed to match DataFrame index.\n"
     ]
    },
    {
     "name": "stdout",
     "output_type": "stream",
     "text": [
      "Fold 0: mse = 2.16204, corr =  0.597\n"
     ]
    },
    {
     "name": "stderr",
     "output_type": "stream",
     "text": [
      "<timed exec>:9: UserWarning: Boolean Series key will be reindexed to match DataFrame index.\n"
     ]
    },
    {
     "name": "stdout",
     "output_type": "stream",
     "text": [
      "Fold 1: mse = 2.15204, corr =  0.599\n"
     ]
    },
    {
     "name": "stderr",
     "output_type": "stream",
     "text": [
      "<timed exec>:9: UserWarning: Boolean Series key will be reindexed to match DataFrame index.\n"
     ]
    },
    {
     "name": "stdout",
     "output_type": "stream",
     "text": [
      "Fold 2: mse = 2.15337, corr =  0.599\n",
      "\u001b[32m\u001b[1m(105942, 16) Average  mse = 2.15582; corr = 0.598\u001b[0m\n",
      "CPU times: total: 1min 7s\n",
      "Wall time: 38.6 s\n"
     ]
    }
   ],
   "source": [
    "%%time\n",
    "# Cross-validation\n",
    "from sklearn.model_selection import GroupKFold\n",
    "#kf = KFold(n_splits=5, shuffle=True, random_state=1)\n",
    "kf = GroupKFold(n_splits=3)\n",
    "score_list = []\n",
    "for fold, (idx_tr, idx_va) in enumerate(kf.split(train_inputs, groups=meta.donor)):\n",
    "    model = None\n",
    "    gc.collect()\n",
    "    tr_day_idx = meta_new.iloc[idx_tr][meta_new.day!=7].index\n",
    "    va_day_idx=meta_new[meta_new.day==7].index\n",
    "    X_tr = train_inputs[tr_day_idx] # creates a copy, https://numpy.org/doc/stable/user/basics.copies.html\n",
    "    y_tr = train_target[tr_day_idx]\n",
    "    del idx_tr\n",
    "\n",
    "    model = Ridge(copy_X=False)\n",
    "    model.fit(X_tr, y_tr)\n",
    "    del X_tr, y_tr\n",
    "    gc.collect()\n",
    "\n",
    "    # We validate the model\n",
    "    X_va = train_inputs[va_day_idx]\n",
    "    y_va = train_target[va_day_idx]\n",
    "    del idx_va\n",
    "    y_va_pred = model.predict(X_va)\n",
    "    mse = mean_squared_error(y_va, y_va_pred)\n",
    "    corrscore = correlation_score(y_va, y_va_pred)\n",
    "    del X_va, y_va\n",
    "\n",
    "    print(f\"Fold {fold}: mse = {mse:.5f}, corr =  {corrscore:.3f}\")\n",
    "    score_list.append((mse, corrscore))\n",
    "\n",
    "# Show overall score\n",
    "result_df = pd.DataFrame(score_list, columns=['mse', 'corrscore'])\n",
    "print(f\"{Fore.GREEN}{Style.BRIGHT}{train_inputs.shape} Average  mse = {result_df.mse.mean():.5f}; corr = {result_df.corrscore.mean():.3f}{Style.RESET_ALL}\")"
   ]
  },
  {
   "cell_type": "markdown",
   "id": "7f3b9b87",
   "metadata": {},
   "source": [
    "# Retraining"
   ]
  },
  {
   "cell_type": "code",
   "execution_count": 20,
   "id": "95c23c3f",
   "metadata": {},
   "outputs": [
    {
     "data": {
      "text/html": [
       "<style>#sk-container-id-1 {color: black;background-color: white;}#sk-container-id-1 pre{padding: 0;}#sk-container-id-1 div.sk-toggleable {background-color: white;}#sk-container-id-1 label.sk-toggleable__label {cursor: pointer;display: block;width: 100%;margin-bottom: 0;padding: 0.3em;box-sizing: border-box;text-align: center;}#sk-container-id-1 label.sk-toggleable__label-arrow:before {content: \"▸\";float: left;margin-right: 0.25em;color: #696969;}#sk-container-id-1 label.sk-toggleable__label-arrow:hover:before {color: black;}#sk-container-id-1 div.sk-estimator:hover label.sk-toggleable__label-arrow:before {color: black;}#sk-container-id-1 div.sk-toggleable__content {max-height: 0;max-width: 0;overflow: hidden;text-align: left;background-color: #f0f8ff;}#sk-container-id-1 div.sk-toggleable__content pre {margin: 0.2em;color: black;border-radius: 0.25em;background-color: #f0f8ff;}#sk-container-id-1 input.sk-toggleable__control:checked~div.sk-toggleable__content {max-height: 200px;max-width: 100%;overflow: auto;}#sk-container-id-1 input.sk-toggleable__control:checked~label.sk-toggleable__label-arrow:before {content: \"▾\";}#sk-container-id-1 div.sk-estimator input.sk-toggleable__control:checked~label.sk-toggleable__label {background-color: #d4ebff;}#sk-container-id-1 div.sk-label input.sk-toggleable__control:checked~label.sk-toggleable__label {background-color: #d4ebff;}#sk-container-id-1 input.sk-hidden--visually {border: 0;clip: rect(1px 1px 1px 1px);clip: rect(1px, 1px, 1px, 1px);height: 1px;margin: -1px;overflow: hidden;padding: 0;position: absolute;width: 1px;}#sk-container-id-1 div.sk-estimator {font-family: monospace;background-color: #f0f8ff;border: 1px dotted black;border-radius: 0.25em;box-sizing: border-box;margin-bottom: 0.5em;}#sk-container-id-1 div.sk-estimator:hover {background-color: #d4ebff;}#sk-container-id-1 div.sk-parallel-item::after {content: \"\";width: 100%;border-bottom: 1px solid gray;flex-grow: 1;}#sk-container-id-1 div.sk-label:hover label.sk-toggleable__label {background-color: #d4ebff;}#sk-container-id-1 div.sk-serial::before {content: \"\";position: absolute;border-left: 1px solid gray;box-sizing: border-box;top: 0;bottom: 0;left: 50%;z-index: 0;}#sk-container-id-1 div.sk-serial {display: flex;flex-direction: column;align-items: center;background-color: white;padding-right: 0.2em;padding-left: 0.2em;position: relative;}#sk-container-id-1 div.sk-item {position: relative;z-index: 1;}#sk-container-id-1 div.sk-parallel {display: flex;align-items: stretch;justify-content: center;background-color: white;position: relative;}#sk-container-id-1 div.sk-item::before, #sk-container-id-1 div.sk-parallel-item::before {content: \"\";position: absolute;border-left: 1px solid gray;box-sizing: border-box;top: 0;bottom: 0;left: 50%;z-index: -1;}#sk-container-id-1 div.sk-parallel-item {display: flex;flex-direction: column;z-index: 1;position: relative;background-color: white;}#sk-container-id-1 div.sk-parallel-item:first-child::after {align-self: flex-end;width: 50%;}#sk-container-id-1 div.sk-parallel-item:last-child::after {align-self: flex-start;width: 50%;}#sk-container-id-1 div.sk-parallel-item:only-child::after {width: 0;}#sk-container-id-1 div.sk-dashed-wrapped {border: 1px dashed gray;margin: 0 0.4em 0.5em 0.4em;box-sizing: border-box;padding-bottom: 0.4em;background-color: white;}#sk-container-id-1 div.sk-label label {font-family: monospace;font-weight: bold;display: inline-block;line-height: 1.2em;}#sk-container-id-1 div.sk-label-container {text-align: center;}#sk-container-id-1 div.sk-container {/* jupyter's `normalize.less` sets `[hidden] { display: none; }` but bootstrap.min.css set `[hidden] { display: none !important; }` so we also need the `!important` here to be able to override the default hidden behavior on the sphinx rendered scikit-learn.org. See: https://github.com/scikit-learn/scikit-learn/issues/21755 */display: inline-block !important;position: relative;}#sk-container-id-1 div.sk-text-repr-fallback {display: none;}</style><div id=\"sk-container-id-1\" class=\"sk-top-container\"><div class=\"sk-text-repr-fallback\"><pre>Ridge(copy_X=False)</pre><b>In a Jupyter environment, please rerun this cell to show the HTML representation or trust the notebook. <br />On GitHub, the HTML representation is unable to render, please try loading this page with nbviewer.org.</b></div><div class=\"sk-container\" hidden><div class=\"sk-item\"><div class=\"sk-estimator sk-toggleable\"><input class=\"sk-toggleable__control sk-hidden--visually\" id=\"sk-estimator-id-1\" type=\"checkbox\" checked><label for=\"sk-estimator-id-1\" class=\"sk-toggleable__label sk-toggleable__label-arrow\">Ridge</label><div class=\"sk-toggleable__content\"><pre>Ridge(copy_X=False)</pre></div></div></div></div></div>"
      ],
      "text/plain": [
       "Ridge(copy_X=False)"
      ]
     },
     "execution_count": 20,
     "metadata": {},
     "output_type": "execute_result"
    }
   ],
   "source": [
    "# We retrain the model and then delete the training data, which is no longer needed\n",
    "model, score_list, result_df = None, None, None # free the RAM occupied by the old model\n",
    "gc.collect()\n",
    "model = Ridge(copy_X=False) # we overwrite the training data\n",
    "model.fit(train_inputs, train_target)"
   ]
  },
  {
   "cell_type": "code",
   "execution_count": 21,
   "id": "440540bb",
   "metadata": {},
   "outputs": [],
   "source": [
    "del train_inputs, train_target # free the RAM\n",
    "_ = gc.collect()"
   ]
  },
  {
   "cell_type": "markdown",
   "id": "30644dfe",
   "metadata": {},
   "source": [
    "# Predicting"
   ]
  },
  {
   "cell_type": "code",
   "execution_count": 22,
   "id": "83c88cde",
   "metadata": {},
   "outputs": [
    {
     "name": "stdout",
     "output_type": "stream",
     "text": [
      "CPU times: total: 30.6 s\n",
      "Wall time: 19.7 s\n"
     ]
    },
    {
     "data": {
      "text/plain": [
       "71"
      ]
     },
     "execution_count": 22,
     "metadata": {},
     "output_type": "execute_result"
    }
   ],
   "source": [
    "%%time\n",
    "multi_test_x = scipy.sparse.load_npz(\"../dataset/test_multi_inputs_values.sparse.npz\")\n",
    "multi_test_x = pca.transform(multi_test_x)\n",
    "test_pred = model.predict(multi_test_x)\n",
    "del multi_test_x\n",
    "gc.collect()"
   ]
  },
  {
   "cell_type": "markdown",
   "id": "eeca3f22",
   "metadata": {},
   "source": [
    "# Creating submission\n",
    "\n",
    "入稿時に表示しなければならないセルをロードします。"
   ]
  },
  {
   "cell_type": "code",
   "execution_count": 23,
   "id": "ea0dd8ed",
   "metadata": {},
   "outputs": [
    {
     "name": "stdout",
     "output_type": "stream",
     "text": [
      "CPU times: total: 25 s\n",
      "Wall time: 21.9 s\n"
     ]
    }
   ],
   "source": [
    "%%time\n",
    "# Read the table of rows and columns required for submission\n",
    "eval_ids = pd.read_parquet(\"../dataset/evaluation.parquet\")\n",
    "\n",
    "# Convert the string columns to more efficient categorical types\n",
    "#eval_ids.cell_id = eval_ids.cell_id.apply(lambda s: int(s, base=16))\n",
    "\n",
    "eval_ids.cell_id = eval_ids.cell_id.astype(pd.CategoricalDtype())\n",
    "eval_ids.gene_id = eval_ids.gene_id.astype(pd.CategoricalDtype())"
   ]
  },
  {
   "cell_type": "code",
   "execution_count": 24,
   "id": "daad6973",
   "metadata": {},
   "outputs": [
    {
     "data": {
      "text/plain": [
       "row_id    cell_id       gene_id        \n",
       "0         c2150f55becb  CD86              NaN\n",
       "1         c2150f55becb  CD274             NaN\n",
       "2         c2150f55becb  CD270             NaN\n",
       "3         c2150f55becb  CD155             NaN\n",
       "4         c2150f55becb  CD112             NaN\n",
       "                                           ..\n",
       "65744175  2c53aa67933d  ENSG00000134419   NaN\n",
       "65744176  2c53aa67933d  ENSG00000186862   NaN\n",
       "65744177  2c53aa67933d  ENSG00000170959   NaN\n",
       "65744178  2c53aa67933d  ENSG00000107874   NaN\n",
       "65744179  2c53aa67933d  ENSG00000166012   NaN\n",
       "Name: target, Length: 65744180, dtype: float32"
      ]
     },
     "execution_count": 24,
     "metadata": {},
     "output_type": "execute_result"
    }
   ],
   "source": [
    "# Prepare an empty series which will be filled with predictions\n",
    "submission = pd.Series(name='target',\n",
    "                       index=pd.MultiIndex.from_frame(eval_ids), \n",
    "                       dtype=np.float32)\n",
    "submission"
   ]
  },
  {
   "cell_type": "markdown",
   "id": "44513b2b",
   "metadata": {},
   "source": [
    "投稿を行うために必要なので、元のデータフレームの `index` と `columns` をロードします。"
   ]
  },
  {
   "cell_type": "code",
   "execution_count": 25,
   "id": "4b0850ea",
   "metadata": {},
   "outputs": [
    {
     "name": "stdout",
     "output_type": "stream",
     "text": [
      "CPU times: total: 31.2 ms\n",
      "Wall time: 29.7 ms\n"
     ]
    }
   ],
   "source": [
    "%%time\n",
    "y_columns = np.load(\"../dataset/train_multi_targets_idxcol.npz\",\n",
    "                   allow_pickle=True)[\"columns\"]\n",
    "\n",
    "test_index = np.load(\"../dataset/test_multi_inputs_idxcol.npz\",\n",
    "                    allow_pickle=True)[\"index\"]"
   ]
  },
  {
   "cell_type": "markdown",
   "id": "9ba1a00b",
   "metadata": {},
   "source": [
    "予測された値を投稿ファイルの正しい行に割り当てる。"
   ]
  },
  {
   "cell_type": "code",
   "execution_count": 26,
   "id": "c83e2683",
   "metadata": {},
   "outputs": [],
   "source": [
    "cell_dict = dict((k,v) for v,k in enumerate(test_index)) \n",
    "assert len(cell_dict)  == len(test_index)\n",
    "\n",
    "gene_dict = dict((k,v) for v,k in enumerate(y_columns))\n",
    "assert len(gene_dict) == len(y_columns)"
   ]
  },
  {
   "cell_type": "code",
   "execution_count": 27,
   "id": "6d8ef07b",
   "metadata": {},
   "outputs": [],
   "source": [
    "eval_ids_cell_num = eval_ids.cell_id.apply(lambda x:cell_dict.get(x, -1))\n",
    "eval_ids_gene_num = eval_ids.gene_id.apply(lambda x:gene_dict.get(x, -1))\n",
    "\n",
    "valid_multi_rows = (eval_ids_gene_num !=-1) & (eval_ids_cell_num!=-1)"
   ]
  },
  {
   "cell_type": "code",
   "execution_count": 28,
   "id": "106e9b06",
   "metadata": {},
   "outputs": [],
   "source": [
    "submission.iloc[valid_multi_rows] = test_pred[eval_ids_cell_num[valid_multi_rows].to_numpy(),\n",
    "eval_ids_gene_num[valid_multi_rows].to_numpy()]"
   ]
  },
  {
   "cell_type": "code",
   "execution_count": 29,
   "id": "c8ecf8ac",
   "metadata": {},
   "outputs": [
    {
     "data": {
      "text/plain": [
       "66"
      ]
     },
     "execution_count": 29,
     "metadata": {},
     "output_type": "execute_result"
    }
   ],
   "source": [
    "del eval_ids_cell_num, eval_ids_gene_num, valid_multi_rows, eval_ids, test_index, y_columns\n",
    "gc.collect()"
   ]
  },
  {
   "cell_type": "code",
   "execution_count": 30,
   "id": "f2ab7640",
   "metadata": {},
   "outputs": [
    {
     "data": {
      "text/plain": [
       "row_id    cell_id       gene_id        \n",
       "0         c2150f55becb  CD86                    NaN\n",
       "1         c2150f55becb  CD274                   NaN\n",
       "2         c2150f55becb  CD270                   NaN\n",
       "3         c2150f55becb  CD155                   NaN\n",
       "4         c2150f55becb  CD112                   NaN\n",
       "                                             ...   \n",
       "65744175  2c53aa67933d  ENSG00000134419    6.545989\n",
       "65744176  2c53aa67933d  ENSG00000186862    0.033699\n",
       "65744177  2c53aa67933d  ENSG00000170959    0.036630\n",
       "65744178  2c53aa67933d  ENSG00000107874    1.455560\n",
       "65744179  2c53aa67933d  ENSG00000166012    4.894366\n",
       "Name: target, Length: 65744180, dtype: float32"
      ]
     },
     "execution_count": 30,
     "metadata": {},
     "output_type": "execute_result"
    }
   ],
   "source": [
    "submission"
   ]
  },
  {
   "cell_type": "code",
   "execution_count": 31,
   "id": "b0ad961a",
   "metadata": {},
   "outputs": [
    {
     "data": {
      "text/plain": [
       "row_id  cell_id       gene_id\n",
       "0       c2150f55becb  CD86      NaN\n",
       "1       c2150f55becb  CD274     NaN\n",
       "2       c2150f55becb  CD270     NaN\n",
       "3       c2150f55becb  CD155     NaN\n",
       "4       c2150f55becb  CD112     NaN\n",
       "Name: target, dtype: float32"
      ]
     },
     "execution_count": 31,
     "metadata": {},
     "output_type": "execute_result"
    }
   ],
   "source": [
    "submission.head()"
   ]
  },
  {
   "cell_type": "code",
   "execution_count": 32,
   "id": "a5333b75",
   "metadata": {},
   "outputs": [],
   "source": [
    "submission.reset_index(drop=True, inplace=True)\n",
    "submission.index.name = 'row_id'\n",
    "# with open(\"partial_submission_multi.pickle\", 'wb') as f:\n",
    "#     pickle.dump(submission, f)\n",
    "# submission"
   ]
  },
  {
   "cell_type": "code",
   "execution_count": 33,
   "id": "35fd8d30",
   "metadata": {},
   "outputs": [
    {
     "data": {
      "text/plain": [
       "row_id\n",
       "0   NaN\n",
       "1   NaN\n",
       "2   NaN\n",
       "3   NaN\n",
       "4   NaN\n",
       "Name: target, dtype: float32"
      ]
     },
     "execution_count": 33,
     "metadata": {},
     "output_type": "execute_result"
    }
   ],
   "source": [
    "submission.head()"
   ]
  },
  {
   "cell_type": "code",
   "execution_count": 34,
   "id": "11fddc8f",
   "metadata": {},
   "outputs": [
    {
     "data": {
      "text/plain": [
       "row_id\n",
       "65744175    6.545989\n",
       "65744176    0.033699\n",
       "65744177    0.036630\n",
       "65744178    1.455560\n",
       "65744179    4.894366\n",
       "Name: target, dtype: float32"
      ]
     },
     "execution_count": 34,
     "metadata": {},
     "output_type": "execute_result"
    }
   ],
   "source": [
    "submission.tail()"
   ]
  },
  {
   "cell_type": "code",
   "execution_count": 35,
   "id": "fa42c7d7",
   "metadata": {},
   "outputs": [],
   "source": [
    "submission.to_csv('../multi_sub/ridge2.csv')"
   ]
  },
  {
   "cell_type": "code",
   "execution_count": 36,
   "id": "1ad50527",
   "metadata": {},
   "outputs": [
    {
     "data": {
      "text/plain": [
       "row_id\n",
       "0                NaN\n",
       "1                NaN\n",
       "2                NaN\n",
       "3                NaN\n",
       "4                NaN\n",
       "              ...   \n",
       "65744175    6.545989\n",
       "65744176    0.033699\n",
       "65744177    0.036630\n",
       "65744178    1.455560\n",
       "65744179    4.894366\n",
       "Name: target, Length: 65744180, dtype: float32"
      ]
     },
     "execution_count": 36,
     "metadata": {},
     "output_type": "execute_result"
    }
   ],
   "source": [
    "submission"
   ]
  }
 ],
 "metadata": {
  "kernelspec": {
   "display_name": "Python 3 (ipykernel)",
   "language": "python",
   "name": "python3"
  },
  "language_info": {
   "codemirror_mode": {
    "name": "ipython",
    "version": 3
   },
   "file_extension": ".py",
   "mimetype": "text/x-python",
   "name": "python",
   "nbconvert_exporter": "python",
   "pygments_lexer": "ipython3",
   "version": "3.8.6"
  }
 },
 "nbformat": 4,
 "nbformat_minor": 5
}
